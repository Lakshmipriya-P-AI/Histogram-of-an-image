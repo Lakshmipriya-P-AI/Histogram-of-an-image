{
 "cells": [
  {
   "cell_type": "code",
   "execution_count": 1,
   "id": "f5312a99",
   "metadata": {},
   "outputs": [],
   "source": [
    "import cv2\n",
    "import matplotlib.pyplot as plt\n",
    "gray_image = cv2.imread(\"bw.jpg\")\n",
    "color_image = cv2.imread(\"cr.jpg\",-1)\n",
    "cv2.imshow(\"Gray Image\",gray_image)\n",
    "cv2.imshow(\"Colour Image\",color_image)\n",
    "cv2.waitKey(0)\n",
    "cv2.destroyAllWindows()"
   ]
  },
  {
   "cell_type": "code",
   "execution_count": null,
   "id": "380cb891",
   "metadata": {},
   "outputs": [],
   "source": []
  }
 ],
 "metadata": {
  "kernelspec": {
   "display_name": "Python 3",
   "language": "python",
   "name": "python3"
  },
  "language_info": {
   "codemirror_mode": {
    "name": "ipython",
    "version": 3
   },
   "file_extension": ".py",
   "mimetype": "text/x-python",
   "name": "python",
   "nbconvert_exporter": "python",
   "pygments_lexer": "ipython3",
   "version": "3.8.8"
  }
 },
 "nbformat": 4,
 "nbformat_minor": 5
}
